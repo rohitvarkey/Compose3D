{
 "metadata": {
  "name": "",
  "signature": "sha256:ee79db191546643664c2d197060f6aa194b727efd624c1b594aa1722a19c0e3a"
 },
 "nbformat": 3,
 "nbformat_minor": 0,
 "worksheets": []
}